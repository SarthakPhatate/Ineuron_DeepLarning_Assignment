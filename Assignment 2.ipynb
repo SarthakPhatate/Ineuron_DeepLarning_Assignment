{
 "cells": [
  {
   "cell_type": "code",
   "execution_count": 1,
   "metadata": {
    "ExecuteTime": {
     "end_time": "2020-05-04T02:39:08.452396Z",
     "start_time": "2020-05-04T02:39:08.436419Z"
    }
   },
   "outputs": [
    {
     "name": "stdout",
     "output_type": "stream",
     "text": [
      "*\t\n",
      "\n",
      "*\t*\t\n",
      "\n",
      "*\t*\t*\t\n",
      "\n",
      "*\t*\t*\t*\t\n",
      "\n",
      "*\t*\t*\t*\t*\t\n",
      "\n",
      "*\t*\t*\t*\t\n",
      "\n",
      "*\t*\t*\t\n",
      "\n",
      "*\t*\t\n",
      "\n",
      "*\t\n",
      "\n"
     ]
    }
   ],
   "source": [
    "'''Create the below pattern using nested for loop in Python.\n",
    "*\n",
    "* *\n",
    "* * *\n",
    "* * * *\n",
    "* * * * *\n",
    "* * * *\n",
    "* * *\n",
    "* *\n",
    "*\n",
    "'''\n",
    "\n",
    "for i in range(1,10):\n",
    "    if(i>5):\n",
    "        i=10-i\n",
    "    for j in range(i):\n",
    "        print(\"*\",end='\\t')\n",
    "    print(\"\\n\")"
   ]
  },
  {
   "cell_type": "code",
   "execution_count": 2,
   "metadata": {
    "ExecuteTime": {
     "end_time": "2020-05-04T02:39:16.976084Z",
     "start_time": "2020-05-04T02:39:08.452396Z"
    }
   },
   "outputs": [
    {
     "name": "stdout",
     "output_type": "stream",
     "text": [
      "AcadGild\n",
      "dliGdacA\n"
     ]
    }
   ],
   "source": [
    "'''Write a Python program to reverse a word after accepting the input from the user.\n",
    "Sample Output:\n",
    "Input word: AcadGild\n",
    "Output: dilGdacA'''\n",
    "\n",
    "word=input()\n",
    "print(word[::-1])"
   ]
  }
 ],
 "metadata": {
  "kernelspec": {
   "display_name": "Python 3",
   "language": "python",
   "name": "python3"
  },
  "language_info": {
   "codemirror_mode": {
    "name": "ipython",
    "version": 3
   },
   "file_extension": ".py",
   "mimetype": "text/x-python",
   "name": "python",
   "nbconvert_exporter": "python",
   "pygments_lexer": "ipython3",
   "version": "3.7.3"
  }
 },
 "nbformat": 4,
 "nbformat_minor": 2
}
